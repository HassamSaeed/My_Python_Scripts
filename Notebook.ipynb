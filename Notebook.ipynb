{
 "cells": [
  {
   "cell_type": "code",
   "execution_count": 3,
   "metadata": {},
   "outputs": [
    {
     "name": "stdout",
     "output_type": "stream",
     "text": [
      "  business name address address city address state address zip phone #  \\\n",
      "0          BN 2    Ad 2         AC 2          AS 1        AZ 2    PH 2   \n",
      "1          BN 3    Ad 3         AC 3          AS 1        AZ 3    PH 3   \n",
      "2          BN 5    Ad 5         AC 5          AS 1        AZ 5    PH 5   \n",
      "3          BN 6    Ad 6         AC 6          AS 1        AZ 6    PH 6   \n",
      "4          BN 7    Ad 7         AC 7          AS 1        AZ 7    PH 7   \n",
      "5          BN 8    Ad 8         AC 8          AS 1        AZ 8    PH 8   \n",
      "6          BN 9    Ad 9         AC 9          AS 1        AZ 9    PH 9   \n",
      "7         BN 11   Ad 11        AC 11          AS 1       AZ 11   PH 11   \n",
      "8         BN 12   Ad 12        AC 12          AS 1       AZ 12   PH 12   \n",
      "9         BN 13   Ad 13        AC 13          AS 1       AZ 13   PH 13   \n",
      "\n",
      "   website url  \n",
      "0  www.aaa.com  \n",
      "1  www.bbb.com  \n",
      "2  www.ccc.com  \n",
      "3  www.ddd.com  \n",
      "4  www.eee.com  \n",
      "5  www.fff.com  \n",
      "6  www.ggg.com  \n",
      "7  www.hhh.com  \n",
      "8  www.iii.com  \n",
      "9  www.jjj.com  \n"
     ]
    }
   ],
   "source": [
    "import pandas as pd\n",
    "\n",
    "data = pd.read_csv(\"https://docs.google.com/spreadsheets/d/e/2PACX-1vRP60V_ZsAFa3Xd3Bx3UR1egOmAIkcfm7zr2Qf4YLLI8tmlrfIvKIIOAfNPlLST3Uo7WRLNaFRA1X6u/pub?gid=1338245917&single=true&output=csv\")\n",
    "unique_data = data.drop_duplicates(subset = \"website url\")\n",
    "print(unique_data)"
   ]
  }
 ],
 "metadata": {
  "kernelspec": {
   "display_name": "Python 3",
   "language": "python",
   "name": "python3"
  },
  "language_info": {
   "codemirror_mode": {
    "name": "ipython",
    "version": 3
   },
   "file_extension": ".py",
   "mimetype": "text/x-python",
   "name": "python",
   "nbconvert_exporter": "python",
   "pygments_lexer": "ipython3",
   "version": "3.7.4"
  }
 },
 "nbformat": 4,
 "nbformat_minor": 2
}
